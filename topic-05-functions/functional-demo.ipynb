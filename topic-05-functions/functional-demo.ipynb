{
 "cells": [
  {
   "cell_type": "code",
   "execution_count": null,
   "metadata": {},
   "outputs": [],
   "source": [
    "def sort(t):\n",
    "    if t == []:\n",
    "        return []\n",
    "    n = head(t)\n",
    "    return sort(lower(tail(t), n)) + equal(t, n) + sort(upper(tail(t), n))"
   ]
  }
 ],
 "metadata": {
  "language_info": {
   "name": "python"
  }
 },
 "nbformat": 4,
 "nbformat_minor": 2
}
