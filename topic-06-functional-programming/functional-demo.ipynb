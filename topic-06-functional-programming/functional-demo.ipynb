{
 "cells": [
  {
   "cell_type": "code",
   "execution_count": 14,
   "metadata": {},
   "outputs": [],
   "source": [
    "def head(t):\n",
    "    if len(t) > 0:\n",
    "        return t[0]\n",
    "    else:\n",
    "        return None\n",
    "\n",
    "\n",
    "def test_head():\n",
    "    assert head([1, 2, 3]) == 1\n",
    "    assert head([]) == None\n",
    "\n",
    "\n",
    "test_head()"
   ]
  },
  {
   "cell_type": "code",
   "execution_count": 15,
   "metadata": {},
   "outputs": [],
   "source": [
    "def tail(t):\n",
    "    if t == []:\n",
    "        return []\n",
    "    else:\n",
    "        return t[1:]\n",
    "\n",
    "\n",
    "def test_tail():\n",
    "    assert tail([1, 2, 3]) == [2, 3]\n",
    "    assert tail([]) == []\n",
    "\n",
    "\n",
    "test_tail()"
   ]
  },
  {
   "cell_type": "code",
   "execution_count": 16,
   "metadata": {},
   "outputs": [],
   "source": [
    "def count(t):\n",
    "    if t == []:\n",
    "        return 0\n",
    "    return 1 + count(tail(t))\n",
    "\n",
    "\n",
    "def test_count():\n",
    "    assert count([1, 2, 3]) == 3\n",
    "    assert count([]) == 0\n",
    "\n",
    "\n",
    "test_count()"
   ]
  },
  {
   "cell_type": "code",
   "execution_count": 17,
   "metadata": {},
   "outputs": [],
   "source": [
    "def sum(t):\n",
    "    if t == []:\n",
    "        return 0\n",
    "    return head(t) + sum(tail(t))\n",
    "\n",
    "\n",
    "def test_sum():\n",
    "    assert sum([1, 2, 3]) == 6\n",
    "    assert sum([]) == 0\n",
    "\n",
    "\n",
    "test_sum()"
   ]
  },
  {
   "cell_type": "code",
   "execution_count": 18,
   "metadata": {},
   "outputs": [],
   "source": [
    "def upper(t, n):\n",
    "    if t == []:\n",
    "        return []\n",
    "    if head(t) > n:\n",
    "        return [head(t)] + upper(tail(t), n)\n",
    "    return upper(tail(t), n)\n",
    "\n",
    "\n",
    "def test_upper():\n",
    "    assert upper([1, 2, 3, 4], 2) == [3, 4]\n",
    "    assert upper([1, 2, 3, 4], 5) == []\n",
    "    assert upper([], 2) == []\n",
    "\n",
    "\n",
    "test_upper()"
   ]
  },
  {
   "cell_type": "code",
   "execution_count": 20,
   "metadata": {},
   "outputs": [],
   "source": [
    "def lower(t, n):\n",
    "    if t == []:\n",
    "        return []\n",
    "    if head(t) < n:\n",
    "        return [head(t)] + lower(tail(t), n)\n",
    "    return lower(tail(t), n)\n",
    "\n",
    "\n",
    "def test_lower():\n",
    "    assert lower([1, 2, 3, 4], 3) == [1, 2]\n",
    "    assert lower([1, 2, 3, 4], 0) == []\n",
    "    assert lower([], 2) == []\n",
    "\n",
    "\n",
    "test_lower()"
   ]
  },
  {
   "cell_type": "code",
   "execution_count": 22,
   "metadata": {},
   "outputs": [],
   "source": [
    "def equal(t, n):\n",
    "    if t == []:\n",
    "        return []\n",
    "    if head(t) == n:\n",
    "        return [head(t)] + equal(tail(t), n)\n",
    "    return equal(tail(t), n)\n",
    "\n",
    "\n",
    "def test_equal():\n",
    "    assert equal([1, 2, 2, 4], 2) == [2, 2]\n",
    "    assert equal([1, 2, 4, 5], 3) == []\n",
    "    assert equal([], 2) == []\n",
    "\n",
    "\n",
    "test_equal()"
   ]
  },
  {
   "cell_type": "code",
   "execution_count": 23,
   "metadata": {},
   "outputs": [],
   "source": [
    "def sort(t):\n",
    "    if t == []:\n",
    "        return []\n",
    "    n = head(t)\n",
    "    return sort(lower(tail(t), n)) + equal(t, n) + sort(upper(tail(t), n))\n",
    "\n",
    "\n",
    "def test_sort():\n",
    "    assert sort([1]) == [1]\n",
    "    assert sort([1, 3, 2, 4, 9, 3, 8, 7, 5, 6, 0]) == [0, 1, 2, 3, 3, 4, 5, 6, 7, 8, 9]\n",
    "    assert sort([]) == []"
   ]
  },
  {
   "cell_type": "code",
   "execution_count": null,
   "metadata": {},
   "outputs": [],
   "source": [
    "def copy(t):\n",
    "    if t == []:\n",
    "        return t \n",
    "    return [head(t)] + copy(tail(t))\n",
    "\n",
    "s = copy([1, 2, 3])\n",
    "s[1] = 4\n",
    "assert t == [1, 2, 3]\n",
    "assert s == [1, 4 ,3]\n",
    "print(s)"
   ]
  },
  {
   "cell_type": "code",
   "execution_count": null,
   "metadata": {},
   "outputs": [],
   "source": [
    "def mirror(t):\n",
    "    if t == []:\n",
    "        return []\n",
    "    if type(t[0]) is list:''\n",
    "        return mirror(tail(t)) + mirror([head(t)])\n",
    "    else:\n",
    "        return mirror(tail(t) + [head(t)])\n",
    "\n",
    "def test_mirror():\n",
    "    assert mirror([]) == []\n",
    "    assert mirror([1, 2, 3]) == [3, 2, 1] \n",
    "    assert mirror([1, 2, [3, [4, 5]]]) == [[[5, 4], 3], 2, 1]\n",
    "    assert mirror([[[0, 1], 2], 4, 5]) == [5, 4, 3 [2, [1, 0]]]"
   ]
  },
  {
   "cell_type": "code",
   "execution_count": 1,
   "metadata": {},
   "outputs": [
    {
     "ename": "IndentationError",
     "evalue": "expected an indented block after 'if' statement on line 5 (276267364.py, line 7)",
     "output_type": "error",
     "traceback": [
      "\u001b[1;36m  Cell \u001b[1;32mIn[1], line 7\u001b[1;36m\u001b[0m\n\u001b[1;33m    return 0\u001b[0m\n\u001b[1;37m    ^\u001b[0m\n\u001b[1;31mIndentationError\u001b[0m\u001b[1;31m:\u001b[0m expected an indented block after 'if' statement on line 5\n"
     ]
    }
   ],
   "source": [
    "def square_root(n, accuracy, guess):\n",
    "    assert n > 1.0\n",
    "    guess2 = guess * guess\n",
    "    if abs(guess2 - n) < n * accuracy:\n",
    "        return guess\n",
    "    if guess2 > n:\n",
    "        guess = (guess + 1) / 2.0\n",
    "        return square_root(n, accuracy, guess)\n",
    "    else:\n",
    "        guess = (guess + n) / 2.0\n",
    "        return square_root(n, accuracy, guess)\n",
    "    return 0\n",
    "\n",
    "def test_square_root():\n",
    "    assert square_root(9, 0.01, 3) == 3.0\n",
    "    assert square_root(9, 0.01, 3.0001) == 3.0\n",
    "\n",
    "\n",
    "test_square_root()\n",
    "\n",
    "#assert square_root(9, 0.01, 9) <= 3.01\n"
   ]
  }
 ],
 "metadata": {
  "kernelspec": {
   "display_name": "Python 3",
   "language": "python",
   "name": "python3"
  },
  "language_info": {
   "codemirror_mode": {
    "name": "ipython",
    "version": 3
   },
   "file_extension": ".py",
   "mimetype": "text/x-python",
   "name": "python",
   "nbconvert_exporter": "python",
   "pygments_lexer": "ipython3",
   "version": "3.11.9"
  }
 },
 "nbformat": 4,
 "nbformat_minor": 2
}
